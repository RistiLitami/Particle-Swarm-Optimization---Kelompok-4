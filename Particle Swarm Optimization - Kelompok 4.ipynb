{
 "cells": [
  {
   "cell_type": "markdown",
   "metadata": {},
   "source": [
    "#  Particle Swarm Optimization\n",
    "\n",
    "\n",
    "**Disusun oleh kelompok 4 :**\n",
    "1. Aditya putra nugraha (09011281924060)\n",
    "2. Kristi ariadi (09011281924155)\n",
    "3. Muhammad Asyrof Al Jauhari (09011281924073)\n",
    "4. Nurhilal Fajri (09011281924074)\n",
    "5. Sa'ad Abdillah Waqas (09011281924070)\n",
    "6. Rianti Agustina (09011181924150)\n",
    "7. Risti Auliah Utami (09011381924099)\n",
    "8. Wilda Septriyanti (09011381924101\n"
   ]
  },
  {
   "cell_type": "markdown",
   "metadata": {},
   "source": [
    "## Penjelasan Mengenai Particle Swarm Optimization\n",
    "\n",
    "Dalam kecerdasan komputasi, Particle Swarm Optimization atau disingkat PSO adalah metode komputasi untuk mengoptimalkan fungsi tujuan. Ini adalah metode pencarian stokastik, yang berbeda dengan banyak algoritma optimasi lainnya, tidak menghitung gradien. Ini juga biasanya digunakan dalam masalah di mana variabel mengambil nilai yang seragam.\n"
   ]
  },
  {
   "cell_type": "markdown",
   "metadata": {},
   "source": [
    "## Variabel\n",
    "\n",
    "Ada beberapa variabel yang perlu diinisialisasi di awal algoritma:\n",
    "\n",
    "\n",
    "- n_pop: Population count\n",
    "- max_iter: Maximum amount of iterrations\n",
    "- v_max: Maximum velocity value\n",
    "- x(i): The particle's position\n",
    "- v(i): The particle's velocity\n",
    "- p(i): The particle's best position yet\n",
    "- f(i): The particle's best function value yet\n",
    "- s_best: The swarm's best particle's position\n",
    "- s_fbest: The swarm's best particle's best function value yet\n",
    "- f_best: The best objective value of the function\n",
    "\n",
    "Nilai objektif terbaik dari fungsi tidak selalu ada dan tidak digunakan di semua variasi algoritma."
   ]
  },
  {
   "cell_type": "markdown",
   "metadata": {},
   "source": [
    "## How it works\n",
    "\n",
    "Cara kerjanya adalah dengan iteratif meningkatkan solusi kandidat dari populasi partikel (swarm), dengan memindahkan partikel-partikel ini di sekitar. Masing-masing partikel ini menyadari posisi terbaik mereka di ruang pencarian, serta posisi terbaik swarm juga diketahui. Berdasarkan asumsi tersebut, swarm diharapkan bergerak menuju solusi (posisi) terbaik.\n",
    "\n",
    "Untuk memperbarui posisi setiap partikel, berikut rumus yang harus diikuti :"
   ]
  },
  {
   "cell_type": "raw",
   "metadata": {},
   "source": [
    "x[i] = x[i] + c1*r1*(p(i)-x(i))+c2*r2*(s_best-x(i))"
   ]
  },
  {
   "cell_type": "markdown",
   "metadata": {},
   "source": [
    "Istilah c1*r1*(p(i)-x(i)) dikenal sebagai koefisien pribadi sedangkan istilah c2*r2*(s_best-x(i)) dikenal sebagai koefisien sosial\n",
    "\n",
    "c1 adalah faktor koefisien pribadi\n",
    "c2 adalah faktor koefisien sosial\n",
    "r1,r2 adalah bilangan acak dari ruang seragam [0,1]"
   ]
  },
  {
   "cell_type": "markdown",
   "metadata": {},
   "source": [
    "## Source Code and Explanation\n",
    "\n",
    "Berikut merupakan kode pemograman untuk memproses penerapan Particle Swarm Optimization beserta penjelasan perbaris kodenya :"
   ]
  },
  {
   "cell_type": "markdown",
   "metadata": {},
   "source": [
    "###  Import Library"
   ]
  },
  {
   "cell_type": "code",
   "execution_count": 4,
   "metadata": {},
   "outputs": [],
   "source": [
    "import math\n",
    "from mpl_toolkits import mplot3d\n",
    "import matplotlib.pyplot as plt\n",
    "import numpy as np"
   ]
  },
  {
   "cell_type": "markdown",
   "metadata": {},
   "source": [
    "Pada baris kode tersebut diimport terlebih dahulu library-library yang digunakan di dalam pemograman Particle Swarm Optimization yang akan dibuat ini."
   ]
  },
  {
   "cell_type": "markdown",
   "metadata": {},
   "source": [
    "###  Variabel"
   ]
  },
  {
   "cell_type": "code",
   "execution_count": 5,
   "metadata": {},
   "outputs": [],
   "source": [
    "DIMENSIONS = 2              # Jumlah dimensi\n",
    "GLOBAL_BEST = 0             # Fungsi Cost Global Terbaik\n",
    "B_LO = -5                   # Batas atas ruang pencarian\n",
    "B_HI = 5                    # Batas atas ruang pencarian\n",
    "\n",
    "POPULATION = 20             # Jumlah partikel dalam swarm\n",
    "V_MAX = 0.1                 # Nilai kecepatan maksimum\n",
    "PERSONAL_C = 2.0            # Faktor personal koefisien\n",
    "SOCIAL_C = 2.0              # Faktor social koefisien\n",
    "CONVERGENCE = 0.001         # Nilai konvergensi\n",
    "MAX_ITER = 100              # Jumlah maksimum iterasi"
   ]
  },
  {
   "cell_type": "markdown",
   "metadata": {},
   "source": [
    "Baris kode di atas merupakan pendefinisian variabel beserta nilai daripada variabel yang digunakan pada program PSO yang dibuat."
   ]
  },
  {
   "cell_type": "markdown",
   "metadata": {},
   "source": [
    "###  Particle class\n",
    "\n",
    "Berikut merupakan baris kode untuk membuat class partikel. Dimana di dalam class particle ini didefinisikan variabel self, x, y,z, dan velocity."
   ]
  },
  {
   "cell_type": "code",
   "execution_count": 6,
   "metadata": {},
   "outputs": [],
   "source": [
    "class Particle():\n",
    "    def __init__(self, x, y, z, velocity):\n",
    "        self.pos = [x, y]\n",
    "        self.pos_z = z\n",
    "        self.velocity = velocity\n",
    "        self.best_pos = self.pos.copy()"
   ]
  },
  {
   "cell_type": "markdown",
   "metadata": {},
   "source": [
    "###  Swarm Class\n",
    "\n",
    "Berikut merupakan baris kode untuk membuat Swarm Class. "
   ]
  },
  {
   "cell_type": "code",
   "execution_count": 8,
   "metadata": {},
   "outputs": [],
   "source": [
    "class Swarm():\n",
    "    def __init__(self, pop, v_max):\n",
    "        self.particles = []             # Daftar patikel pada kelompok\n",
    "        self.best_pos = None            # Partikel terbaik pada kelompok \n",
    "        self.best_pos_z = math.inf      # Partikel terbaik pada kelompok \n",
    "\n",
    "        for _ in range(pop):\n",
    "            x = np.random.uniform(B_LO, B_HI)\n",
    "            y = np.random.uniform(B_LO, B_HI)\n",
    "            z = cost_function(x, y)\n",
    "            velocity = np.random.rand(2) * v_max\n",
    "            particle = Particle(x, y, z, velocity)\n",
    "            self.particles.append(particle)\n",
    "            if self.best_pos != None and particle.pos_z < self.best_pos_z:\n",
    "                self.best_pos = particle.pos.copy()\n",
    "                self.best_pos_z = particle.pos_z\n",
    "            else:\n",
    "                self.best_pos = particle.pos.copy()\n",
    "                self.best_pos_z = particle.pos_z"
   ]
  },
  {
   "cell_type": "markdown",
   "metadata": {},
   "source": [
    "### Proses Evalusasi, Inisialisi dan Update pada Program\n",
    "\n",
    "Berikut kode untuk melakukan evaluasi, inisialisasi dan update untuk mendapatkan hasil Optimasi Partikel Swarm. Pada kode program di bawah ini telah dijelaskan fungsi daripada kode program itu dengan memasukan komentar di dalam program."
   ]
  },
  {
   "cell_type": "code",
   "execution_count": 18,
   "metadata": {},
   "outputs": [],
   "source": [
    "# Evaluasi tujuan atau fungsi cost (ackley)\n",
    "def cost_function(x, y, a=20, b=0.2, c=2*math.pi):\n",
    "    term_1 = np.exp((-b * np.sqrt(0.5 * (x ** 2 + y ** 2))))\n",
    "    term_2 = np.exp((np.cos(c * x) + np.cos(c * y)) / 2)\n",
    "    return -1 * a * term_1 - term_2 + a + np.exp(1)\n",
    "\n",
    "def particle_swarm_optimization():\n",
    "\n",
    "    # Inisialisasi plot variabel\n",
    "    x = np.linspace(B_LO, B_HI, 50)\n",
    "    y = np.linspace(B_LO, B_HI, 50)\n",
    "    X, Y = np.meshgrid(x, y)\n",
    "    fig = plt.figure(\"Particle Swarm Optimization\")\n",
    "\n",
    "    # Inisialisasi kelompok\n",
    "    swarm = Swarm(POPULATION, V_MAX)\n",
    "\n",
    "    # Inisialisasi inertia weight\n",
    "    inertia_weight = 0.5 + (np.random.rand()/2)\n",
    "    \n",
    "    curr_iter = 0\n",
    "    while curr_iter < MAX_ITER:\n",
    "\n",
    "        fig.clf()\n",
    "        ax = fig.add_subplot(1, 1, 1)\n",
    "        ac = ax.contourf(X, Y, cost_function(X, Y), cmap='viridis')\n",
    "        fig.colorbar(ac)\n",
    "\n",
    "        for particle in swarm.particles:\n",
    "\n",
    "            for i in range(0, DIMENSIONS):\n",
    "                r1 = np.random.uniform(0, 1)\n",
    "                r2 = np.random.uniform(0, 1)\n",
    "                \n",
    "                # Update velocity partikel\n",
    "                personal_coefficient = PERSONAL_C * r1 * (particle.best_pos[i] - particle.pos[i])\n",
    "                social_coefficient = SOCIAL_C * r2 * (swarm.best_pos[i] - particle.pos[i])\n",
    "                new_velocity = inertia_weight * particle.velocity[i] + personal_coefficient + social_coefficient\n",
    "\n",
    "                # Pemeriksaan apakah velocity melampaui\n",
    "                if new_velocity > V_MAX:\n",
    "                    particle.velocity[i] = V_MAX\n",
    "                elif new_velocity < -V_MAX:\n",
    "                    particle.velocity[i] = -V_MAX\n",
    "                else:\n",
    "                    particle.velocity[i] = new_velocity\n",
    "\n",
    "            ax.scatter(particle.pos[0], particle.pos[1], marker='*', c='r')\n",
    "            ax.arrow(particle.pos[0], particle.pos[1], particle.velocity[0], particle.velocity[1], head_width=0.1, head_length=0.1, color='k')\n",
    "\n",
    "            # Pembaruan posisi partikel saat ini\n",
    "            particle.pos += particle.velocity\n",
    "            particle.pos_z = cost_function(particle.pos[0], particle.pos[1])\n",
    "\n",
    "            # Pembaruan formasi posisi terbaik\n",
    "            if particle.pos_z < cost_function(particle.best_pos[0], particle.best_pos[1]):\n",
    "                particle.best_pos = particle.pos.copy()\n",
    "\n",
    "                # Pembaruan formasi kelompok terbaik\n",
    "                if particle.pos_z < swarm.best_pos_z:\n",
    "                    swarm.best_pos = particle.pos.copy()\n",
    "                    swarm.best_pos_z = particle.pos_z\n",
    "                    \n",
    "            # Periksa apakah partikel berada dalam batas\n",
    "            if particle.pos[0] > B_HI:\n",
    "                particle.pos[0] = np.random.uniform(B_LO, B_HI)\n",
    "                particle.pos_z = cost_function(particle.pos[0], particle.pos[1])\n",
    "            if particle.pos[1] > B_HI:\n",
    "                particle.pos[1] = np.random.uniform(B_LO, B_HI)\n",
    "                particle.pos_z = cost_function(particle.pos[0], particle.pos[1])\n",
    "            if particle.pos[0] < B_LO:\n",
    "                particle.pos[0] = np.random.uniform(B_LO, B_HI)\n",
    "                particle.pos_z = cost_function(particle.pos[0], particle.pos[1])\n",
    "            if particle.pos[1] < B_LO:\n",
    "                particle.pos[1] = np.random.uniform(B_LO, B_HI)\n",
    "                particle.pos_z = cost_function(particle.pos[0], particle.pos[1])\n",
    "\n",
    "        plt.subplots_adjust(right = 0.95)\n",
    "        plt.pause(0.00001)\n",
    "\n",
    "        # Mengecek Konfergen\n",
    "        if abs(swarm.best_pos_z - GLOBAL_BEST) < CONVERGENCE:\n",
    "            print(\"The swarm has met convergence criteria after \" + str(curr_iter) + \" iterrations.\")\n",
    "            break\n",
    "        curr_iter += 1\n",
    "    plt.show()"
   ]
  },
  {
   "cell_type": "markdown",
   "metadata": {},
   "source": [
    "### Hasil dan Analisis Program\n",
    "\n",
    "Berikut merupakan hasil daripada program setelah dijalankan. Dapat dilihat pada hasil program di bawah ini. Kumpulan particle tersebut menyebar lalu menghitung jarak antara masing-masing partikel lalu menghitung jarak dengan target. Seperti yang kita tahu bahwa Cara kerja PSO menyerupai sekumpulan burung atau ikan dalam menemukan sumber makanan dimana setiap individu disebut partikel dan populasi disebut swarm (koloni). PSO diinisialisasi dengan sekumpulan partikel sebagai kandidat solusi pada posisi acak. Setiap partikel diberikan posisi awal dan kecepatan awal."
   ]
  },
  {
   "cell_type": "code",
   "execution_count": 19,
   "metadata": {},
   "outputs": [
    {
     "data": {
      "image/png": "[encoded data removed]",
      "text/plain": [
       "<Figure size 432x288 with 2 Axes>"
      ]
     },
     "metadata": {
      "needs_background": "light"
     },
     "output_type": "display_data"
    },
    {
     "data": {
      "text/plain": [
       "<Figure size 432x288 with 0 Axes>"
      ]
     },
     "metadata": {},
     "output_type": "display_data"
    },
    {
     "data": {
      "text/plain": [
       "<Figure size 432x288 with 0 Axes>"
      ]
     },
     "metadata": {},
     "output_type": "display_data"
    },
    {
     "data": {
      "text/plain": [
       "<Figure size 432x288 with 0 Axes>"
      ]
     },
     "metadata": {},
     "output_type": "display_data"
    },
    {
     "data": {
      "text/plain": [
       "<Figure size 432x288 with 0 Axes>"
      ]
     },
     "metadata": {},
     "output_type": "display_data"
    },
    {
     "data": {
      "text/plain": [
       "<Figure size 432x288 with 0 Axes>"
      ]
     },
     "metadata": {},
     "output_type": "display_data"
    },
    {
     "data": {
      "text/plain": [
       "<Figure size 432x288 with 0 Axes>"
      ]
     },
     "metadata": {},
     "output_type": "display_data"
    },
    {
     "data": {
      "text/plain": [
       "<Figure size 432x288 with 0 Axes>"
      ]
     },
     "metadata": {},
     "output_type": "display_data"
    },
    {
     "data": {
      "text/plain": [
       "<Figure size 432x288 with 0 Axes>"
      ]
     },
     "metadata": {},
     "output_type": "display_data"
    },
    {
     "data": {
      "text/plain": [
       "<Figure size 432x288 with 0 Axes>"
      ]
     },
     "metadata": {},
     "output_type": "display_data"
    },
    {
     "data": {
      "text/plain": [
       "<Figure size 432x288 with 0 Axes>"
      ]
     },
     "metadata": {},
     "output_type": "display_data"
    },
    {
     "data": {
      "text/plain": [
       "<Figure size 432x288 with 0 Axes>"
      ]
     },
     "metadata": {},
     "output_type": "display_data"
    },
    {
     "data": {
      "text/plain": [
       "<Figure size 432x288 with 0 Axes>"
      ]
     },
     "metadata": {},
     "output_type": "display_data"
    },
    {
     "data": {
      "text/plain": [
       "<Figure size 432x288 with 0 Axes>"
      ]
     },
     "metadata": {},
     "output_type": "display_data"
    },
    {
     "data": {
      "text/plain": [
       "<Figure size 432x288 with 0 Axes>"
      ]
     },
     "metadata": {},
     "output_type": "display_data"
    },
    {
     "data": {
      "text/plain": [
       "<Figure size 432x288 with 0 Axes>"
      ]
     },
     "metadata": {},
     "output_type": "display_data"
    },
    {
     "data": {
      "text/plain": [
       "<Figure size 432x288 with 0 Axes>"
      ]
     },
     "metadata": {},
     "output_type": "display_data"
    },
    {
     "data": {
      "text/plain": [
       "<Figure size 432x288 with 0 Axes>"
      ]
     },
     "metadata": {},
     "output_type": "display_data"
    },
    {
     "data": {
      "text/plain": [
       "<Figure size 432x288 with 0 Axes>"
      ]
     },
     "metadata": {},
     "output_type": "display_data"
    },
    {
     "data": {
      "text/plain": [
       "<Figure size 432x288 with 0 Axes>"
      ]
     },
     "metadata": {},
     "output_type": "display_data"
    },
    {
     "data": {
      "text/plain": [
       "<Figure size 432x288 with 0 Axes>"
      ]
     },
     "metadata": {},
     "output_type": "display_data"
    },
    {
     "data": {
      "text/plain": [
       "<Figure size 432x288 with 0 Axes>"
      ]
     },
     "metadata": {},
     "output_type": "display_data"
    },
    {
     "data": {
      "text/plain": [
       "<Figure size 432x288 with 0 Axes>"
      ]
     },
     "metadata": {},
     "output_type": "display_data"
    },
    {
     "data": {
      "text/plain": [
       "<Figure size 432x288 with 0 Axes>"
      ]
     },
     "metadata": {},
     "output_type": "display_data"
    },
    {
     "data": {
      "text/plain": [
       "<Figure size 432x288 with 0 Axes>"
      ]
     },
     "metadata": {},
     "output_type": "display_data"
    },
    {
     "data": {
      "text/plain": [
       "<Figure size 432x288 with 0 Axes>"
      ]
     },
     "metadata": {},
     "output_type": "display_data"
    },
    {
     "data": {
      "text/plain": [
       "<Figure size 432x288 with 0 Axes>"
      ]
     },
     "metadata": {},
     "output_type": "display_data"
    },
    {
     "data": {
      "text/plain": [
       "<Figure size 432x288 with 0 Axes>"
      ]
     },
     "metadata": {},
     "output_type": "display_data"
    },
    {
     "data": {
      "text/plain": [
       "<Figure size 432x288 with 0 Axes>"
      ]
     },
     "metadata": {},
     "output_type": "display_data"
    },
    {
     "data": {
      "text/plain": [
       "<Figure size 432x288 with 0 Axes>"
      ]
     },
     "metadata": {},
     "output_type": "display_data"
    },
    {
     "data": {
      "text/plain": [
       "<Figure size 432x288 with 0 Axes>"
      ]
     },
     "metadata": {},
     "output_type": "display_data"
    },
    {
     "data": {
      "text/plain": [
       "<Figure size 432x288 with 0 Axes>"
      ]
     },
     "metadata": {},
     "output_type": "display_data"
    },
    {
     "data": {
      "text/plain": [
       "<Figure size 432x288 with 0 Axes>"
      ]
     },
     "metadata": {},
     "output_type": "display_data"
    },
    {
     "data": {
      "text/plain": [
       "<Figure size 432x288 with 0 Axes>"
      ]
     },
     "metadata": {},
     "output_type": "display_data"
    },
    {
     "data": {
      "text/plain": [
       "<Figure size 432x288 with 0 Axes>"
      ]
     },
     "metadata": {},
     "output_type": "display_data"
    },
    {
     "data": {
      "text/plain": [
       "<Figure size 432x288 with 0 Axes>"
      ]
     },
     "metadata": {},
     "output_type": "display_data"
    },
    {
     "data": {
      "text/plain": [
       "<Figure size 432x288 with 0 Axes>"
      ]
     },
     "metadata": {},
     "output_type": "display_data"
    },
    {
     "data": {
      "text/plain": [
       "<Figure size 432x288 with 0 Axes>"
      ]
     },
     "metadata": {},
     "output_type": "display_data"
    },
    {
     "data": {
      "text/plain": [
       "<Figure size 432x288 with 0 Axes>"
      ]
     },
     "metadata": {},
     "output_type": "display_data"
    },
    {
     "data": {
      "text/plain": [
       "<Figure size 432x288 with 0 Axes>"
      ]
     },
     "metadata": {},
     "output_type": "display_data"
    },
    {
     "data": {
      "text/plain": [
       "<Figure size 432x288 with 0 Axes>"
      ]
     },
     "metadata": {},
     "output_type": "display_data"
    },
    {
     "data": {
      "text/plain": [
       "<Figure size 432x288 with 0 Axes>"
      ]
     },
     "metadata": {},
     "output_type": "display_data"
    },
    {
     "data": {
      "text/plain": [
       "<Figure size 432x288 with 0 Axes>"
      ]
     },
     "metadata": {},
     "output_type": "display_data"
    },
    {
     "data": {
      "text/plain": [
       "<Figure size 432x288 with 0 Axes>"
      ]
     },
     "metadata": {},
     "output_type": "display_data"
    },
    {
     "data": {
      "text/plain": [
       "<Figure size 432x288 with 0 Axes>"
      ]
     },
     "metadata": {},
     "output_type": "display_data"
    },
    {
     "data": {
      "text/plain": [
       "<Figure size 432x288 with 0 Axes>"
      ]
     },
     "metadata": {},
     "output_type": "display_data"
    },
    {
     "data": {
      "text/plain": [
       "<Figure size 432x288 with 0 Axes>"
      ]
     },
     "metadata": {},
     "output_type": "display_data"
    },
    {
     "data": {
      "text/plain": [
       "<Figure size 432x288 with 0 Axes>"
      ]
     },
     "metadata": {},
     "output_type": "display_data"
    },
    {
     "data": {
      "text/plain": [
       "<Figure size 432x288 with 0 Axes>"
      ]
     },
     "metadata": {},
     "output_type": "display_data"
    },
    {
     "data": {
      "text/plain": [
       "<Figure size 432x288 with 0 Axes>"
      ]
     },
     "metadata": {},
     "output_type": "display_data"
    },
    {
     "data": {
      "text/plain": [
       "<Figure size 432x288 with 0 Axes>"
      ]
     },
     "metadata": {},
     "output_type": "display_data"
    },
    {
     "data": {
      "text/plain": [
       "<Figure size 432x288 with 0 Axes>"
      ]
     },
     "metadata": {},
     "output_type": "display_data"
    },
    {
     "data": {
      "text/plain": [
       "<Figure size 432x288 with 0 Axes>"
      ]
     },
     "metadata": {},
     "output_type": "display_data"
    },
    {
     "data": {
      "text/plain": [
       "<Figure size 432x288 with 0 Axes>"
      ]
     },
     "metadata": {},
     "output_type": "display_data"
    },
    {
     "data": {
      "text/plain": [
       "<Figure size 432x288 with 0 Axes>"
      ]
     },
     "metadata": {},
     "output_type": "display_data"
    },
    {
     "data": {
      "text/plain": [
       "<Figure size 432x288 with 0 Axes>"
      ]
     },
     "metadata": {},
     "output_type": "display_data"
    },
    {
     "data": {
      "text/plain": [
       "<Figure size 432x288 with 0 Axes>"
      ]
     },
     "metadata": {},
     "output_type": "display_data"
    },
    {
     "data": {
      "text/plain": [
       "<Figure size 432x288 with 0 Axes>"
      ]
     },
     "metadata": {},
     "output_type": "display_data"
    },
    {
     "data": {
      "text/plain": [
       "<Figure size 432x288 with 0 Axes>"
      ]
     },
     "metadata": {},
     "output_type": "display_data"
    },
    {
     "data": {
      "text/plain": [
       "<Figure size 432x288 with 0 Axes>"
      ]
     },
     "metadata": {},
     "output_type": "display_data"
    },
    {
     "data": {
      "text/plain": [
       "<Figure size 432x288 with 0 Axes>"
      ]
     },
     "metadata": {},
     "output_type": "display_data"
    },
    {
     "data": {
      "text/plain": [
       "<Figure size 432x288 with 0 Axes>"
      ]
     },
     "metadata": {},
     "output_type": "display_data"
    },
    {
     "data": {
      "text/plain": [
       "<Figure size 432x288 with 0 Axes>"
      ]
     },
     "metadata": {},
     "output_type": "display_data"
    },
    {
     "data": {
      "text/plain": [
       "<Figure size 432x288 with 0 Axes>"
      ]
     },
     "metadata": {},
     "output_type": "display_data"
    },
    {
     "data": {
      "text/plain": [
       "<Figure size 432x288 with 0 Axes>"
      ]
     },
     "metadata": {},
     "output_type": "display_data"
    },
    {
     "data": {
      "text/plain": [
       "<Figure size 432x288 with 0 Axes>"
      ]
     },
     "metadata": {},
     "output_type": "display_data"
    },
    {
     "data": {
      "text/plain": [
       "<Figure size 432x288 with 0 Axes>"
      ]
     },
     "metadata": {},
     "output_type": "display_data"
    },
    {
     "data": {
      "text/plain": [
       "<Figure size 432x288 with 0 Axes>"
      ]
     },
     "metadata": {},
     "output_type": "display_data"
    },
    {
     "data": {
      "text/plain": [
       "<Figure size 432x288 with 0 Axes>"
      ]
     },
     "metadata": {},
     "output_type": "display_data"
    },
    {
     "data": {
      "text/plain": [
       "<Figure size 432x288 with 0 Axes>"
      ]
     },
     "metadata": {},
     "output_type": "display_data"
    },
    {
     "data": {
      "text/plain": [
       "<Figure size 432x288 with 0 Axes>"
      ]
     },
     "metadata": {},
     "output_type": "display_data"
    },
    {
     "data": {
      "text/plain": [
       "<Figure size 432x288 with 0 Axes>"
      ]
     },
     "metadata": {},
     "output_type": "display_data"
    },
    {
     "data": {
      "text/plain": [
       "<Figure size 432x288 with 0 Axes>"
      ]
     },
     "metadata": {},
     "output_type": "display_data"
    },
    {
     "data": {
      "text/plain": [
       "<Figure size 432x288 with 0 Axes>"
      ]
     },
     "metadata": {},
     "output_type": "display_data"
    },
    {
     "data": {
      "text/plain": [
       "<Figure size 432x288 with 0 Axes>"
      ]
     },
     "metadata": {},
     "output_type": "display_data"
    },
    {
     "data": {
      "text/plain": [
       "<Figure size 432x288 with 0 Axes>"
      ]
     },
     "metadata": {},
     "output_type": "display_data"
    },
    {
     "data": {
      "text/plain": [
       "<Figure size 432x288 with 0 Axes>"
      ]
     },
     "metadata": {},
     "output_type": "display_data"
    },
    {
     "data": {
      "text/plain": [
       "<Figure size 432x288 with 0 Axes>"
      ]
     },
     "metadata": {},
     "output_type": "display_data"
    },
    {
     "data": {
      "text/plain": [
       "<Figure size 432x288 with 0 Axes>"
      ]
     },
     "metadata": {},
     "output_type": "display_data"
    },
    {
     "data": {
      "text/plain": [
       "<Figure size 432x288 with 0 Axes>"
      ]
     },
     "metadata": {},
     "output_type": "display_data"
    },
    {
     "data": {
      "text/plain": [
       "<Figure size 432x288 with 0 Axes>"
      ]
     },
     "metadata": {},
     "output_type": "display_data"
    },
    {
     "data": {
      "text/plain": [
       "<Figure size 432x288 with 0 Axes>"
      ]
     },
     "metadata": {},
     "output_type": "display_data"
    },
    {
     "data": {
      "text/plain": [
       "<Figure size 432x288 with 0 Axes>"
      ]
     },
     "metadata": {},
     "output_type": "display_data"
    },
    {
     "data": {
      "text/plain": [
       "<Figure size 432x288 with 0 Axes>"
      ]
     },
     "metadata": {},
     "output_type": "display_data"
    },
    {
     "data": {
      "text/plain": [
       "<Figure size 432x288 with 0 Axes>"
      ]
     },
     "metadata": {},
     "output_type": "display_data"
    },
    {
     "data": {
      "text/plain": [
       "<Figure size 432x288 with 0 Axes>"
      ]
     },
     "metadata": {},
     "output_type": "display_data"
    },
    {
     "data": {
      "text/plain": [
       "<Figure size 432x288 with 0 Axes>"
      ]
     },
     "metadata": {},
     "output_type": "display_data"
    },
    {
     "data": {
      "text/plain": [
       "<Figure size 432x288 with 0 Axes>"
      ]
     },
     "metadata": {},
     "output_type": "display_data"
    },
    {
     "data": {
      "text/plain": [
       "<Figure size 432x288 with 0 Axes>"
      ]
     },
     "metadata": {},
     "output_type": "display_data"
    },
    {
     "data": {
      "text/plain": [
       "<Figure size 432x288 with 0 Axes>"
      ]
     },
     "metadata": {},
     "output_type": "display_data"
    },
    {
     "data": {
      "text/plain": [
       "<Figure size 432x288 with 0 Axes>"
      ]
     },
     "metadata": {},
     "output_type": "display_data"
    },
    {
     "data": {
      "text/plain": [
       "<Figure size 432x288 with 0 Axes>"
      ]
     },
     "metadata": {},
     "output_type": "display_data"
    },
    {
     "data": {
      "text/plain": [
       "<Figure size 432x288 with 0 Axes>"
      ]
     },
     "metadata": {},
     "output_type": "display_data"
    },
    {
     "data": {
      "text/plain": [
       "<Figure size 432x288 with 0 Axes>"
      ]
     },
     "metadata": {},
     "output_type": "display_data"
    },
    {
     "data": {
      "text/plain": [
       "<Figure size 432x288 with 0 Axes>"
      ]
     },
     "metadata": {},
     "output_type": "display_data"
    },
    {
     "data": {
      "text/plain": [
       "<Figure size 432x288 with 0 Axes>"
      ]
     },
     "metadata": {},
     "output_type": "display_data"
    },
    {
     "data": {
      "text/plain": [
       "<Figure size 432x288 with 0 Axes>"
      ]
     },
     "metadata": {},
     "output_type": "display_data"
    },
    {
     "data": {
      "text/plain": [
       "<Figure size 432x288 with 0 Axes>"
      ]
     },
     "metadata": {},
     "output_type": "display_data"
    },
    {
     "data": {
      "text/plain": [
       "<Figure size 432x288 with 0 Axes>"
      ]
     },
     "metadata": {},
     "output_type": "display_data"
    },
    {
     "data": {
      "text/plain": [
       "<Figure size 432x288 with 0 Axes>"
      ]
     },
     "metadata": {},
     "output_type": "display_data"
    },
    {
     "name": "stdout",
     "output_type": "stream",
     "text": [
      "The swarm has met convergence criteria after 99 iterrations.\n"
     ]
    }
   ],
   "source": [
    "if __name__ == \"__main__\":\n",
    "    particle_swarm_optimization()"
   ]
  },
  {
   "cell_type": "code",
   "execution_count": null,
   "metadata": {},
   "outputs": [],
   "source": []
  }
 ],
 "metadata": {
  "kernelspec": {
   "display_name": "Python 3",
   "language": "python",
   "name": "python3"
  },
  "language_info": {
   "codemirror_mode": {
    "name": "ipython",
    "version": 3
   },
   "file_extension": ".py",
   "mimetype": "text/x-python",
   "name": "python",
   "nbconvert_exporter": "python",
   "pygments_lexer": "ipython3",
   "version": "3.7.0"
  }
 },
 "nbformat": 4,
 "nbformat_minor": 4
}
